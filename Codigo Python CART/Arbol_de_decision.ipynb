{
 "cells": [
  {
   "cell_type": "markdown",
   "id": "27a80380",
   "metadata": {},
   "source": [
    "# Arbol de decision con _CART_ (Clasificación).\n",
    "\n",
    "Para la generación de un árbol de decisión utilizando el algoritmo CART _(Classification and Regression Trees)_, se necesita trabajar con un **DataFrame**, el cual puede ser manipulado eficientemente mediante la librería Pandas. Esta librería será de gran ayuda para organizar, limpiar y transformar los datos antes de construir el modelo.\n",
    "\n",
    "### Instalación de librerías.\n",
    "\n",
    "Para instalar la librería pandas, utilizaremos pip. Antes de hacerlo, es recomendable actualizar pip con el siguiente comando:\n",
    " ``` Bash\n",
    " python -m pip install --upgrade pip\n",
    " ```\n",
    "Una vez actualizado, podemos instalar Pandas con el siguiente comando: \n",
    "``` Bash\n",
    "pip install pandas\n",
    "```\n",
    "\n",
    "Además de pandas, utilizaremos la librería NumPy. Por defecto, NumPy se instala automáticamente junto con pandas, ya que es una de sus dependencias. Sin embargo, si por alguna razón no se instala correctamente, puedes instalarla de forma manual con el siguiente comando:\n",
    "```Bash\n",
    "pip install numpy\n",
    "```\n",
    "Una vez importadas las librerías necesarias, procederemos a cargar nuestro conjunto de datos en un DataFrame utilizando la librería pandas."
   ]
  },
  {
   "cell_type": "code",
   "execution_count": 43,
   "id": "ac7d5620",
   "metadata": {},
   "outputs": [
    {
     "data": {
      "application/vnd.microsoft.datawrangler.viewer.v0+json": {
       "columns": [
        {
         "name": "index",
         "rawType": "int64",
         "type": "integer"
        },
        {
         "name": "Clima",
         "rawType": "object",
         "type": "string"
        },
        {
         "name": "Temperatura",
         "rawType": "object",
         "type": "string"
        },
        {
         "name": "Humedad",
         "rawType": "object",
         "type": "string"
        },
        {
         "name": "Viento",
         "rawType": "object",
         "type": "string"
        },
        {
         "name": "Salir",
         "rawType": "object",
         "type": "string"
        }
       ],
       "ref": "5a186289-8434-4850-9d52-136d8f9bc10a",
       "rows": [
        [
         "0",
         "soleado",
         "alta",
         "alta",
         "debil",
         "no"
        ],
        [
         "1",
         "soleado",
         "alta",
         "alta",
         "fuerte",
         "no"
        ],
        [
         "2",
         "nublado",
         "alta",
         "alta",
         "debil",
         "si"
        ],
        [
         "3",
         "lluvioso",
         "media",
         "alta",
         "debil",
         "si"
        ],
        [
         "4",
         "lluvioso",
         "baja",
         "normal",
         "debil",
         "si"
        ],
        [
         "5",
         "lluvioso",
         "baja",
         "normal",
         "fuerte",
         "no"
        ],
        [
         "6",
         "nublado",
         "baja",
         "normal",
         "fuerte",
         "si"
        ],
        [
         "7",
         "soleado",
         "media",
         "alta",
         "debil",
         "no"
        ],
        [
         "8",
         "soleado",
         "baja",
         "normal",
         "debil",
         "si"
        ],
        [
         "9",
         "lluvioso",
         "media",
         "normal",
         "debil",
         "si"
        ],
        [
         "10",
         "soleado",
         "media",
         "normal",
         "fuerte",
         "si"
        ],
        [
         "11",
         "nublado",
         "media",
         "alta",
         "fuerte",
         "si"
        ],
        [
         "12",
         "nublado",
         "alta",
         "normal",
         "debil",
         "si"
        ],
        [
         "13",
         "lluvioso",
         "media",
         "alta",
         "fuerte",
         "no"
        ]
       ],
       "shape": {
        "columns": 5,
        "rows": 14
       }
      },
      "text/html": [
       "<div>\n",
       "<style scoped>\n",
       "    .dataframe tbody tr th:only-of-type {\n",
       "        vertical-align: middle;\n",
       "    }\n",
       "\n",
       "    .dataframe tbody tr th {\n",
       "        vertical-align: top;\n",
       "    }\n",
       "\n",
       "    .dataframe thead th {\n",
       "        text-align: right;\n",
       "    }\n",
       "</style>\n",
       "<table border=\"1\" class=\"dataframe\">\n",
       "  <thead>\n",
       "    <tr style=\"text-align: right;\">\n",
       "      <th></th>\n",
       "      <th>Clima</th>\n",
       "      <th>Temperatura</th>\n",
       "      <th>Humedad</th>\n",
       "      <th>Viento</th>\n",
       "      <th>Salir</th>\n",
       "    </tr>\n",
       "  </thead>\n",
       "  <tbody>\n",
       "    <tr>\n",
       "      <th>0</th>\n",
       "      <td>soleado</td>\n",
       "      <td>alta</td>\n",
       "      <td>alta</td>\n",
       "      <td>debil</td>\n",
       "      <td>no</td>\n",
       "    </tr>\n",
       "    <tr>\n",
       "      <th>1</th>\n",
       "      <td>soleado</td>\n",
       "      <td>alta</td>\n",
       "      <td>alta</td>\n",
       "      <td>fuerte</td>\n",
       "      <td>no</td>\n",
       "    </tr>\n",
       "    <tr>\n",
       "      <th>2</th>\n",
       "      <td>nublado</td>\n",
       "      <td>alta</td>\n",
       "      <td>alta</td>\n",
       "      <td>debil</td>\n",
       "      <td>si</td>\n",
       "    </tr>\n",
       "    <tr>\n",
       "      <th>3</th>\n",
       "      <td>lluvioso</td>\n",
       "      <td>media</td>\n",
       "      <td>alta</td>\n",
       "      <td>debil</td>\n",
       "      <td>si</td>\n",
       "    </tr>\n",
       "    <tr>\n",
       "      <th>4</th>\n",
       "      <td>lluvioso</td>\n",
       "      <td>baja</td>\n",
       "      <td>normal</td>\n",
       "      <td>debil</td>\n",
       "      <td>si</td>\n",
       "    </tr>\n",
       "    <tr>\n",
       "      <th>5</th>\n",
       "      <td>lluvioso</td>\n",
       "      <td>baja</td>\n",
       "      <td>normal</td>\n",
       "      <td>fuerte</td>\n",
       "      <td>no</td>\n",
       "    </tr>\n",
       "    <tr>\n",
       "      <th>6</th>\n",
       "      <td>nublado</td>\n",
       "      <td>baja</td>\n",
       "      <td>normal</td>\n",
       "      <td>fuerte</td>\n",
       "      <td>si</td>\n",
       "    </tr>\n",
       "    <tr>\n",
       "      <th>7</th>\n",
       "      <td>soleado</td>\n",
       "      <td>media</td>\n",
       "      <td>alta</td>\n",
       "      <td>debil</td>\n",
       "      <td>no</td>\n",
       "    </tr>\n",
       "    <tr>\n",
       "      <th>8</th>\n",
       "      <td>soleado</td>\n",
       "      <td>baja</td>\n",
       "      <td>normal</td>\n",
       "      <td>debil</td>\n",
       "      <td>si</td>\n",
       "    </tr>\n",
       "    <tr>\n",
       "      <th>9</th>\n",
       "      <td>lluvioso</td>\n",
       "      <td>media</td>\n",
       "      <td>normal</td>\n",
       "      <td>debil</td>\n",
       "      <td>si</td>\n",
       "    </tr>\n",
       "    <tr>\n",
       "      <th>10</th>\n",
       "      <td>soleado</td>\n",
       "      <td>media</td>\n",
       "      <td>normal</td>\n",
       "      <td>fuerte</td>\n",
       "      <td>si</td>\n",
       "    </tr>\n",
       "    <tr>\n",
       "      <th>11</th>\n",
       "      <td>nublado</td>\n",
       "      <td>media</td>\n",
       "      <td>alta</td>\n",
       "      <td>fuerte</td>\n",
       "      <td>si</td>\n",
       "    </tr>\n",
       "    <tr>\n",
       "      <th>12</th>\n",
       "      <td>nublado</td>\n",
       "      <td>alta</td>\n",
       "      <td>normal</td>\n",
       "      <td>debil</td>\n",
       "      <td>si</td>\n",
       "    </tr>\n",
       "    <tr>\n",
       "      <th>13</th>\n",
       "      <td>lluvioso</td>\n",
       "      <td>media</td>\n",
       "      <td>alta</td>\n",
       "      <td>fuerte</td>\n",
       "      <td>no</td>\n",
       "    </tr>\n",
       "  </tbody>\n",
       "</table>\n",
       "</div>"
      ],
      "text/plain": [
       "       Clima Temperatura Humedad  Viento Salir\n",
       "0    soleado        alta    alta   debil    no\n",
       "1    soleado        alta    alta  fuerte    no\n",
       "2    nublado        alta    alta   debil    si\n",
       "3   lluvioso       media    alta   debil    si\n",
       "4   lluvioso        baja  normal   debil    si\n",
       "5   lluvioso        baja  normal  fuerte    no\n",
       "6    nublado        baja  normal  fuerte    si\n",
       "7    soleado       media    alta   debil    no\n",
       "8    soleado        baja  normal   debil    si\n",
       "9   lluvioso       media  normal   debil    si\n",
       "10   soleado       media  normal  fuerte    si\n",
       "11   nublado       media    alta  fuerte    si\n",
       "12   nublado        alta  normal   debil    si\n",
       "13  lluvioso       media    alta  fuerte    no"
      ]
     },
     "execution_count": 43,
     "metadata": {},
     "output_type": "execute_result"
    }
   ],
   "source": [
    "import pandas as pd\n",
    "import numpy as np\n",
    "\n",
    "df = pd.read_csv('Data/DataFrame_Tennis.csv')\n",
    "df"
   ]
  },
  {
   "cell_type": "markdown",
   "id": "936c3a6d",
   "metadata": {},
   "source": [
    "Es importante tener en cuenta que el algoritmo CART funciona de manera más eficiente cuando los datos son numéricos. El uso de variables categóricas puede dificultar la interpretación del modelo y aumentar su complejidad, ya que CART divide el espacio de decisiones mediante comparaciones binarias.\n",
    "\n",
    "Por esta razón, es recomendable convertir las variables categóricas a valores numéricos. Una forma práctica de hacerlo en pandas es utilizando el atributo `.cat.codes`, el cual está disponible para columnas con tipo de dato `category`.\n"
   ]
  },
  {
   "cell_type": "code",
   "execution_count": 44,
   "id": "7f6f1bf6",
   "metadata": {},
   "outputs": [
    {
     "data": {
      "application/vnd.microsoft.datawrangler.viewer.v0+json": {
       "columns": [
        {
         "name": "index",
         "rawType": "int64",
         "type": "integer"
        },
        {
         "name": "Clima",
         "rawType": "int8",
         "type": "integer"
        },
        {
         "name": "Temperatura",
         "rawType": "int8",
         "type": "integer"
        },
        {
         "name": "Humedad",
         "rawType": "int8",
         "type": "integer"
        },
        {
         "name": "Viento",
         "rawType": "int8",
         "type": "integer"
        },
        {
         "name": "Salir",
         "rawType": "int8",
         "type": "integer"
        }
       ],
       "ref": "c5e8d51a-b50c-461c-8093-e2b28a2a5f92",
       "rows": [
        [
         "0",
         "2",
         "0",
         "0",
         "0",
         "0"
        ],
        [
         "1",
         "2",
         "0",
         "0",
         "1",
         "0"
        ],
        [
         "2",
         "1",
         "0",
         "0",
         "0",
         "1"
        ],
        [
         "3",
         "0",
         "2",
         "0",
         "0",
         "1"
        ],
        [
         "4",
         "0",
         "1",
         "1",
         "0",
         "1"
        ],
        [
         "5",
         "0",
         "1",
         "1",
         "1",
         "0"
        ],
        [
         "6",
         "1",
         "1",
         "1",
         "1",
         "1"
        ],
        [
         "7",
         "2",
         "2",
         "0",
         "0",
         "0"
        ],
        [
         "8",
         "2",
         "1",
         "1",
         "0",
         "1"
        ],
        [
         "9",
         "0",
         "2",
         "1",
         "0",
         "1"
        ],
        [
         "10",
         "2",
         "2",
         "1",
         "1",
         "1"
        ],
        [
         "11",
         "1",
         "2",
         "0",
         "1",
         "1"
        ],
        [
         "12",
         "1",
         "0",
         "1",
         "0",
         "1"
        ],
        [
         "13",
         "0",
         "2",
         "0",
         "1",
         "0"
        ]
       ],
       "shape": {
        "columns": 5,
        "rows": 14
       }
      },
      "text/html": [
       "<div>\n",
       "<style scoped>\n",
       "    .dataframe tbody tr th:only-of-type {\n",
       "        vertical-align: middle;\n",
       "    }\n",
       "\n",
       "    .dataframe tbody tr th {\n",
       "        vertical-align: top;\n",
       "    }\n",
       "\n",
       "    .dataframe thead th {\n",
       "        text-align: right;\n",
       "    }\n",
       "</style>\n",
       "<table border=\"1\" class=\"dataframe\">\n",
       "  <thead>\n",
       "    <tr style=\"text-align: right;\">\n",
       "      <th></th>\n",
       "      <th>Clima</th>\n",
       "      <th>Temperatura</th>\n",
       "      <th>Humedad</th>\n",
       "      <th>Viento</th>\n",
       "      <th>Salir</th>\n",
       "    </tr>\n",
       "  </thead>\n",
       "  <tbody>\n",
       "    <tr>\n",
       "      <th>0</th>\n",
       "      <td>2</td>\n",
       "      <td>0</td>\n",
       "      <td>0</td>\n",
       "      <td>0</td>\n",
       "      <td>0</td>\n",
       "    </tr>\n",
       "    <tr>\n",
       "      <th>1</th>\n",
       "      <td>2</td>\n",
       "      <td>0</td>\n",
       "      <td>0</td>\n",
       "      <td>1</td>\n",
       "      <td>0</td>\n",
       "    </tr>\n",
       "    <tr>\n",
       "      <th>2</th>\n",
       "      <td>1</td>\n",
       "      <td>0</td>\n",
       "      <td>0</td>\n",
       "      <td>0</td>\n",
       "      <td>1</td>\n",
       "    </tr>\n",
       "    <tr>\n",
       "      <th>3</th>\n",
       "      <td>0</td>\n",
       "      <td>2</td>\n",
       "      <td>0</td>\n",
       "      <td>0</td>\n",
       "      <td>1</td>\n",
       "    </tr>\n",
       "    <tr>\n",
       "      <th>4</th>\n",
       "      <td>0</td>\n",
       "      <td>1</td>\n",
       "      <td>1</td>\n",
       "      <td>0</td>\n",
       "      <td>1</td>\n",
       "    </tr>\n",
       "    <tr>\n",
       "      <th>5</th>\n",
       "      <td>0</td>\n",
       "      <td>1</td>\n",
       "      <td>1</td>\n",
       "      <td>1</td>\n",
       "      <td>0</td>\n",
       "    </tr>\n",
       "    <tr>\n",
       "      <th>6</th>\n",
       "      <td>1</td>\n",
       "      <td>1</td>\n",
       "      <td>1</td>\n",
       "      <td>1</td>\n",
       "      <td>1</td>\n",
       "    </tr>\n",
       "    <tr>\n",
       "      <th>7</th>\n",
       "      <td>2</td>\n",
       "      <td>2</td>\n",
       "      <td>0</td>\n",
       "      <td>0</td>\n",
       "      <td>0</td>\n",
       "    </tr>\n",
       "    <tr>\n",
       "      <th>8</th>\n",
       "      <td>2</td>\n",
       "      <td>1</td>\n",
       "      <td>1</td>\n",
       "      <td>0</td>\n",
       "      <td>1</td>\n",
       "    </tr>\n",
       "    <tr>\n",
       "      <th>9</th>\n",
       "      <td>0</td>\n",
       "      <td>2</td>\n",
       "      <td>1</td>\n",
       "      <td>0</td>\n",
       "      <td>1</td>\n",
       "    </tr>\n",
       "    <tr>\n",
       "      <th>10</th>\n",
       "      <td>2</td>\n",
       "      <td>2</td>\n",
       "      <td>1</td>\n",
       "      <td>1</td>\n",
       "      <td>1</td>\n",
       "    </tr>\n",
       "    <tr>\n",
       "      <th>11</th>\n",
       "      <td>1</td>\n",
       "      <td>2</td>\n",
       "      <td>0</td>\n",
       "      <td>1</td>\n",
       "      <td>1</td>\n",
       "    </tr>\n",
       "    <tr>\n",
       "      <th>12</th>\n",
       "      <td>1</td>\n",
       "      <td>0</td>\n",
       "      <td>1</td>\n",
       "      <td>0</td>\n",
       "      <td>1</td>\n",
       "    </tr>\n",
       "    <tr>\n",
       "      <th>13</th>\n",
       "      <td>0</td>\n",
       "      <td>2</td>\n",
       "      <td>0</td>\n",
       "      <td>1</td>\n",
       "      <td>0</td>\n",
       "    </tr>\n",
       "  </tbody>\n",
       "</table>\n",
       "</div>"
      ],
      "text/plain": [
       "    Clima  Temperatura  Humedad  Viento  Salir\n",
       "0       2            0        0       0      0\n",
       "1       2            0        0       1      0\n",
       "2       1            0        0       0      1\n",
       "3       0            2        0       0      1\n",
       "4       0            1        1       0      1\n",
       "5       0            1        1       1      0\n",
       "6       1            1        1       1      1\n",
       "7       2            2        0       0      0\n",
       "8       2            1        1       0      1\n",
       "9       0            2        1       0      1\n",
       "10      2            2        1       1      1\n",
       "11      1            2        0       1      1\n",
       "12      1            0        1       0      1\n",
       "13      0            2        0       1      0"
      ]
     },
     "execution_count": 44,
     "metadata": {},
     "output_type": "execute_result"
    }
   ],
   "source": [
    "\n",
    "for col in df.select_dtypes(include=['object']):\n",
    "    df[col] = df[col].astype('category').cat.codes\n",
    "\n",
    "df"
   ]
  },
  {
   "cell_type": "markdown",
   "id": "482503e4",
   "metadata": {},
   "source": [
    "### Arbol binario\n",
    "La clase `Nodo` define la estructura básica de un árbol de decisión. Cada nodo puede representar una división del conjunto de datos utilizando un **atributo** (una columna del DataFrame) y un **umbral** (valor de corte para esa división). Si el nodo es una **hoja**, se le asigna una **clase**, que indica la categoría final del modelo. Además, contiene dos enlaces (`izq` y `der`) que apuntan a los subárboles izquierdo y derecho, respectivamente, lo que permite construir el árbol de forma recursiva.\n"
   ]
  },
  {
   "cell_type": "code",
   "execution_count": 45,
   "id": "01c4b35b",
   "metadata": {},
   "outputs": [],
   "source": [
    "class Nodo:\n",
    "    def __init__(self, atributo=None, umbral=None, clase=None):\n",
    "        self.atributo = atributo      \n",
    "        self.umbral = umbral         \n",
    "        self.clase = clase           \n",
    "        self.izq = None             \n",
    "        self.der = None             "
   ]
  },
  {
   "cell_type": "markdown",
   "id": "a6e014e4",
   "metadata": {},
   "source": [
    "### Umbral\n",
    "\n",
    "El **Umbral** o _Threshold_ $(t)$  es un valor numérico que se utiliza para dividir un conjunto de datos en dos partes dentro de un nodo del árbol de decisión. Para encontrar el umbral óptimo, se deben ordenar los elementos del conjunto y calcular el promedio entre cada par de valores consecutivos, de la siguiente manera:\n",
    "\n",
    "$$\n",
    "T = \\left\\{ \\frac{v_i + v_{i+1}}{2} \\;\\middle|\\; i = 1, 2, \\dots, n-1 \\right\\}\n",
    "$$\n"
   ]
  },
  {
   "cell_type": "code",
   "execution_count": 46,
   "id": "77fc61c0",
   "metadata": {},
   "outputs": [
    {
     "name": "stdout",
     "output_type": "stream",
     "text": [
      "[np.float64(0.5), np.float64(1.5)]\n"
     ]
    }
   ],
   "source": [
    "def calcular_umbral(df, col_idx):\n",
    "    valores = np.sort(df.iloc[:, col_idx].unique())\n",
    "    return [(valores[i] + valores[i+1]) / 2 for i in range(len(valores)-1)]\n",
    "\n",
    "print(calcular_umbral(df,0))"
   ]
  },
  {
   "cell_type": "markdown",
   "id": "dfb35d39",
   "metadata": {},
   "source": [
    "### Indice Gini\n",
    "\n",
    "El criterio de división utilizado en los árboles de clasificación es el índice de Gini, este mide la impureza de un nodo después de la división.\n",
    "\n",
    "$$\n",
    "Gini = 1 - \\sum_{i = 0} p_i^2\n",
    "$$"
   ]
  },
  {
   "cell_type": "code",
   "execution_count": 47,
   "id": "4f8b22fb",
   "metadata": {},
   "outputs": [],
   "source": [
    "def gini(probabilidades):\n",
    "    return 1 - sum(p ** 2 for p in probabilidades)"
   ]
  },
  {
   "cell_type": "markdown",
   "id": "a9e14ad6",
   "metadata": {},
   "source": [
    "### Split\n",
    "\n",
    "Para seleccionar el mejor atributo y punto de corte, se calcula el índice de Gini para cada nodo hijo generado por la división, y luego se realiza una suma ponderada de estos valores según la proporción de instancias en cada nodo (probabilidad relativa). La división que minimiza esta suma ponderada se selecciona como la mejor.\n",
    "\n",
    "$$\n",
    "Gini_{\\text{split}} = \\frac{|D_{\\text{izq}}|}{|D|} \\cdot Gini(D_{\\text{izq}}) + \\frac{|D_{\\text{der}}|}{|D|} \\cdot Gini(D_{\\text{der}})\n",
    "$$"
   ]
  },
  {
   "cell_type": "code",
   "execution_count": 48,
   "id": "85b54a37",
   "metadata": {},
   "outputs": [
    {
     "name": "stdout",
     "output_type": "stream",
     "text": [
      "(2, np.float64(0.5))\n"
     ]
    }
   ],
   "source": [
    "def encontrar_mejor_split(df):\n",
    "    mejor_gini = float('inf')\n",
    "    mejor_attr = None\n",
    "    mejor_umbral = None\n",
    "    n = df.shape[0]   #Devuelve el numero de filas\n",
    "    for col in range(df.shape[1] - 1):\n",
    "        for u in calcular_umbral(df, col):\n",
    "            izq = df[df.iloc[:, col] <= u]\n",
    "            der = df[df.iloc[:, col] > u]\n",
    "            if izq.empty or der.empty:\n",
    "                continue\n",
    "            p_izq = izq.iloc[:, -1].value_counts(normalize=True).values\n",
    "            p_der = der.iloc[:, -1].value_counts(normalize=True).values\n",
    "            gini_total = (len(izq)/n)*gini(p_izq) + (len(der)/n)*gini(p_der)\n",
    "            if gini_total < mejor_gini:\n",
    "                mejor_gini = gini_total\n",
    "                mejor_attr = col\n",
    "                mejor_umbral = u\n",
    "    return mejor_attr, mejor_umbral\n",
    "\n",
    "print(encontrar_mejor_split(df))"
   ]
  },
  {
   "cell_type": "markdown",
   "id": "013fe2a4",
   "metadata": {},
   "source": [
    "### Constucción del arbol\n",
    "\n",
    "El árbol de decisión se construye a partir de preguntas recursivas basadas en un atributo y un umbral específico. En cada nodo, se determina qué atributo y valor de corte dividen mejor el conjunto de datos. Luego, se crean nodos hijos de manera recursiva hasta que todas las instancias en un nodo pertenezcan a la misma clase o no sea posible continuar dividiendo."
   ]
  },
  {
   "cell_type": "code",
   "execution_count": 49,
   "id": "45ae9388",
   "metadata": {},
   "outputs": [],
   "source": [
    "def construir_arbol(df):\n",
    "    clases = df.iloc[:, -1]\n",
    "    if clases.nunique() == 1:\n",
    "        return Nodo(clase=clases.iloc[0])\n",
    "    \n",
    "    attr, u = encontrar_mejor_split(df)\n",
    "    if attr is None:\n",
    "        return Nodo(clase=clases.mode()[0])\n",
    "    \n",
    "    nodo = Nodo(atributo=attr, umbral=u)\n",
    "    izq = df[df.iloc[:, attr] <= u]\n",
    "    der = df[df.iloc[:, attr] > u]\n",
    "    nodo.izq = construir_arbol(izq)\n",
    "    nodo.der = construir_arbol(der)\n",
    "    return nodo\n"
   ]
  },
  {
   "cell_type": "markdown",
   "id": "4d154a16",
   "metadata": {},
   "source": [
    "### Visualización del árbol\n",
    "\n"
   ]
  },
  {
   "cell_type": "code",
   "execution_count": 52,
   "id": "45489621",
   "metadata": {},
   "outputs": [
    {
     "name": "stdout",
     "output_type": "stream",
     "text": [
      "Estructura del árbol CART:\n",
      "[Humedad ≤ 0.5]\n",
      "  [Clima ≤ 1.5]\n",
      "    [Clima ≤ 0.5]\n",
      "      [Viento ≤ 0.5]\n",
      "        Hoja: clase = 1\n",
      "        Hoja: clase = 0\n",
      "      Hoja: clase = 1\n",
      "    Hoja: clase = 0\n",
      "  [Clima ≤ 0.5]\n",
      "    [Viento ≤ 0.5]\n",
      "      Hoja: clase = 1\n",
      "      Hoja: clase = 0\n",
      "    Hoja: clase = 1\n"
     ]
    }
   ],
   "source": [
    "def imprimir_arbol(nodo, nivel=0):\n",
    "    if nodo is None:\n",
    "        return\n",
    "    sangria = \"  \" * nivel\n",
    "    if nodo.clase is not None:\n",
    "        print(f\"{sangria}Hoja: clase = {nodo.clase}\")\n",
    "    else:\n",
    "        print(f\"{sangria}[{df.iloc[:, :-1].columns[nodo.atributo]} ≤ {nodo.umbral}]\")\n",
    "        imprimir_arbol(nodo.izq, nivel+1)\n",
    "        imprimir_arbol(nodo.der, nivel+1)\n",
    "\n",
    "arbol = construir_arbol(df)\n",
    "print(\"Estructura del árbol CART:\")\n",
    "imprimir_arbol(arbol)"
   ]
  }
 ],
 "metadata": {
  "kernelspec": {
   "display_name": "Python 3",
   "language": "python",
   "name": "python3"
  },
  "language_info": {
   "codemirror_mode": {
    "name": "ipython",
    "version": 3
   },
   "file_extension": ".py",
   "mimetype": "text/x-python",
   "name": "python",
   "nbconvert_exporter": "python",
   "pygments_lexer": "ipython3",
   "version": "3.13.2"
  }
 },
 "nbformat": 4,
 "nbformat_minor": 5
}
